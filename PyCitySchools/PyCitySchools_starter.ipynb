{
 "cells": [
  {
   "cell_type": "markdown",
   "metadata": {},
   "source": [
    "### Note\n",
    "* Instructions have been included for each segment. You do not have to follow them exactly, but they are included to help you think through the steps."
   ]
  },
  {
   "cell_type": "code",
   "execution_count": 1,
   "metadata": {},
   "outputs": [],
   "source": [
    "# Dependencies and Setup\n",
    "import pandas as pd\n",
    "\n",
    "# File to Load (Remember to Change These)\n",
    "school_data_to_load = \"Resources/schools_complete.csv\"\n",
    "student_data_to_load = \"Resources/students_complete.csv\"\n",
    "\n",
    "# Read School and Student Data File and store into Pandas Data Frames\n",
    "school_data = pd.read_csv(school_data_to_load)\n",
    "student_data = pd.read_csv(student_data_to_load)\n",
    "\n",
    "# Combine the data into a single dataset\n",
    "school_data_complete = pd.merge(student_data, school_data, how=\"left\", on=[\"school_name\", \"school_name\"])\n",
    "\n"
   ]
  },
  {
   "cell_type": "markdown",
   "metadata": {},
   "source": [
    "## District Summary\n",
    "\n",
    "* Calculate the total number of schools\n",
    "\n",
    "* Calculate the total number of students\n",
    "\n",
    "* Calculate the total budget\n",
    "\n",
    "* Calculate the average math score \n",
    "\n",
    "* Calculate the average reading score\n",
    "\n",
    "* Calculate the overall passing rate (overall average score), i.e. (avg. math score + avg. reading score)/2\n",
    "\n",
    "* Calculate the percentage of students with a passing math score (70 or greater)\n",
    "\n",
    "* Calculate the percentage of students with a passing reading score (70 or greater)\n",
    "\n",
    "* Create a dataframe to hold the above results\n",
    "\n",
    "* Optional: give the displayed data cleaner formatting"
   ]
  },
  {
   "cell_type": "markdown",
   "metadata": {},
   "source": [
    "## Calculate Requested Data"
   ]
  },
  {
   "cell_type": "code",
   "execution_count": 2,
   "metadata": {},
   "outputs": [
    {
     "data": {
      "text/plain": [
       "15"
      ]
     },
     "execution_count": 2,
     "metadata": {},
     "output_type": "execute_result"
    }
   ],
   "source": [
    "#Total number of schools\n",
    "Total_Schools = school_data_complete[\"school_name\"].value_counts()\n",
    "Total_Schools.count()"
   ]
  },
  {
   "cell_type": "code",
   "execution_count": 3,
   "metadata": {},
   "outputs": [
    {
     "data": {
      "text/plain": [
       "39170"
      ]
     },
     "execution_count": 3,
     "metadata": {},
     "output_type": "execute_result"
    }
   ],
   "source": [
    "#Total number of students\n",
    "Total_Students = school_data_complete[\"student_name\"].count()\n",
    "Total_Students"
   ]
  },
  {
   "cell_type": "code",
   "execution_count": 4,
   "metadata": {},
   "outputs": [
    {
     "data": {
      "text/plain": [
       "24649428"
      ]
     },
     "execution_count": 4,
     "metadata": {},
     "output_type": "execute_result"
    }
   ],
   "source": [
    "#Total budget\n",
    "Total_budget = school_data_complete[\"budget\"].unique()\n",
    "Total_budget.sum()"
   ]
  },
  {
   "cell_type": "code",
   "execution_count": 5,
   "metadata": {},
   "outputs": [
    {
     "data": {
      "text/plain": [
       "80.43"
      ]
     },
     "execution_count": 5,
     "metadata": {},
     "output_type": "execute_result"
    }
   ],
   "source": [
    "#Math and reading average score\n",
    "MathAverage = school_data_complete[\"math_score\"].mean()\n",
    "ReadingAverage = school_data_complete[\"reading_score\"].mean()\n",
    "#Overall Score\n",
    "OverallAverageScore = round((MathAverage + ReadingAverage)/2,2)\n",
    "OverallAverageScore\n"
   ]
  },
  {
   "cell_type": "code",
   "execution_count": 6,
   "metadata": {},
   "outputs": [
    {
     "data": {
      "text/plain": [
       "(29370, 33610)"
      ]
     },
     "execution_count": 6,
     "metadata": {},
     "output_type": "execute_result"
    }
   ],
   "source": [
    "#Percentage of students with more than 70 score\n",
    "PassMath = school_data_complete.loc[school_data_complete[\"math_score\"] >= 70, \"math_score\"]\n",
    "PassReading = school_data_complete.loc[school_data_complete[\"reading_score\"] >= 70, \"reading_score\"]\n",
    "PassMath.count(), PassReading.count()\n",
    "\n"
   ]
  },
  {
   "cell_type": "code",
   "execution_count": 7,
   "metadata": {},
   "outputs": [
    {
     "data": {
      "text/plain": [
       "(['75%'], ['86%'], ['80%'])"
      ]
     },
     "execution_count": 7,
     "metadata": {},
     "output_type": "execute_result"
    }
   ],
   "source": [
    "MathPassPercent = [\"{0:.0%}\".format(PassMath.count()/Total_Students)]\n",
    "ReadingPassPercent = [\"{0:.0%}\".format(PassReading.count()/Total_Students)]\n",
    "OverallPassPercent = [\"{0:.0%}\".format((PassMath.count()+PassReading.count())/(Total_Students*2))]\n",
    "MathPassPercent , ReadingPassPercent, OverallPassPercent"
   ]
  },
  {
   "cell_type": "markdown",
   "metadata": {},
   "source": [
    "## Gathering data together"
   ]
  },
  {
   "cell_type": "code",
   "execution_count": 8,
   "metadata": {},
   "outputs": [
    {
     "data": {
      "text/html": [
       "<div>\n",
       "<style scoped>\n",
       "    .dataframe tbody tr th:only-of-type {\n",
       "        vertical-align: middle;\n",
       "    }\n",
       "\n",
       "    .dataframe tbody tr th {\n",
       "        vertical-align: top;\n",
       "    }\n",
       "\n",
       "    .dataframe thead th {\n",
       "        text-align: right;\n",
       "    }\n",
       "</style>\n",
       "<table border=\"1\" class=\"dataframe\">\n",
       "  <thead>\n",
       "    <tr style=\"text-align: right;\">\n",
       "      <th></th>\n",
       "      <th>Total Schools</th>\n",
       "      <th>Total Students</th>\n",
       "      <th>Total Budget</th>\n",
       "      <th>Math Average</th>\n",
       "      <th>Readign Averag</th>\n",
       "      <th>Overall Average</th>\n",
       "      <th>%Passing Math</th>\n",
       "      <th>%Passing Reading</th>\n",
       "      <th>%Overall Passing</th>\n",
       "    </tr>\n",
       "  </thead>\n",
       "  <tbody>\n",
       "    <tr>\n",
       "      <td></td>\n",
       "      <td>15</td>\n",
       "      <td>39170</td>\n",
       "      <td>$24,649,428</td>\n",
       "      <td>78.99</td>\n",
       "      <td>81.88</td>\n",
       "      <td>80.43</td>\n",
       "      <td>75%</td>\n",
       "      <td>86%</td>\n",
       "      <td>80%</td>\n",
       "    </tr>\n",
       "  </tbody>\n",
       "</table>\n",
       "</div>"
      ],
      "text/plain": [
       "  Total Schools  Total Students Total Budget  Math Average  Readign Averag  \\\n",
       "             15           39170  $24,649,428         78.99           81.88   \n",
       "\n",
       "  Overall Average %Passing Math %Passing Reading %Overall Passing  \n",
       "            80.43           75%              86%              80%  "
      ]
     },
     "execution_count": 8,
     "metadata": {},
     "output_type": "execute_result"
    }
   ],
   "source": [
    "#Create a dateframe where to put results\n",
    "District_Summary_Data = {\"Total Schools\": [Total_Schools.count()],\n",
    "                         \"Total Students\" : Total_Students,\n",
    "                         \"Total Budget\" : \"${:0,.0f}\".format(Total_budget.sum()),\n",
    "                         \"Math Average\" : [round(MathAverage,2)],\n",
    "                         \"Readign Averag\" : round(ReadingAverage,2),\n",
    "                         \"Overall Average\" : round(OverallAverageScore,2),\n",
    "                         \"%Passing Math\" : MathPassPercent,\n",
    "                         \"%Passing Reading\" : ReadingPassPercent,\n",
    "                         \"%Overall Passing\" : OverallPassPercent}\n",
    "District_Summary = pd.DataFrame(District_Summary_Data)\n",
    "\n",
    "#Deleting index from the result\n",
    "blankIndex=[''] * len(District_Summary)\n",
    "District_Summary.index=blankIndex\n",
    "District_Summary"
   ]
  },
  {
   "cell_type": "markdown",
   "metadata": {},
   "source": [
    "## School Summary"
   ]
  },
  {
   "cell_type": "markdown",
   "metadata": {},
   "source": [
    "* Create an overview table that summarizes key metrics about each school, including:\n",
    "  * School Name\n",
    "  * School Type\n",
    "  * Total Students\n",
    "  * Total School Budget\n",
    "  * Per Student Budget\n",
    "  * Average Math Score\n",
    "  * Average Reading Score\n",
    "  * % Passing Math\n",
    "  * % Passing Reading\n",
    "  * Overall Passing Rate (Average of the above two)\n",
    "  \n",
    "* Create a dataframe to hold the above results"
   ]
  },
  {
   "cell_type": "markdown",
   "metadata": {},
   "source": [
    "## Calculate requested data"
   ]
  },
  {
   "cell_type": "code",
   "execution_count": 9,
   "metadata": {},
   "outputs": [
    {
     "data": {
      "text/plain": [
       "Index(['Budget', 'Av_read', 'Av_math', 'Tot_stud'], dtype='object')"
      ]
     },
     "execution_count": 9,
     "metadata": {},
     "output_type": "execute_result"
    }
   ],
   "source": [
    "#Getting the easiest of data \n",
    "School_Summary = school_data_complete.groupby([\"school_name\",'type' ,'budget']).agg(\n",
    "    #I used the string format just to add the column budget without applying the function\n",
    "                                                                Budget = (str('budget'), 'mean'),\n",
    "                                                                Av_read = (\"reading_score\", \"mean\"),\n",
    "                                                                Av_math = (\"math_score\", 'mean'),\n",
    "                                                                Tot_stud = ('student_name', 'count'))\n",
    "School_Summary.columns"
   ]
  },
  {
   "cell_type": "code",
   "execution_count": 10,
   "metadata": {},
   "outputs": [
    {
     "data": {
      "text/html": [
       "<div>\n",
       "<style scoped>\n",
       "    .dataframe tbody tr th:only-of-type {\n",
       "        vertical-align: middle;\n",
       "    }\n",
       "\n",
       "    .dataframe tbody tr th {\n",
       "        vertical-align: top;\n",
       "    }\n",
       "\n",
       "    .dataframe thead th {\n",
       "        text-align: right;\n",
       "    }\n",
       "</style>\n",
       "<table border=\"1\" class=\"dataframe\">\n",
       "  <thead>\n",
       "    <tr style=\"text-align: right;\">\n",
       "      <th></th>\n",
       "      <th></th>\n",
       "      <th>math_score</th>\n",
       "    </tr>\n",
       "    <tr>\n",
       "      <th>school_name</th>\n",
       "      <th>type</th>\n",
       "      <th></th>\n",
       "    </tr>\n",
       "  </thead>\n",
       "  <tbody>\n",
       "    <tr>\n",
       "      <td>Bailey High School</td>\n",
       "      <td>District</td>\n",
       "      <td>3318</td>\n",
       "    </tr>\n",
       "    <tr>\n",
       "      <td>Cabrera High School</td>\n",
       "      <td>Charter</td>\n",
       "      <td>1749</td>\n",
       "    </tr>\n",
       "    <tr>\n",
       "      <td>Figueroa High School</td>\n",
       "      <td>District</td>\n",
       "      <td>1946</td>\n",
       "    </tr>\n",
       "    <tr>\n",
       "      <td>Ford High School</td>\n",
       "      <td>District</td>\n",
       "      <td>1871</td>\n",
       "    </tr>\n",
       "    <tr>\n",
       "      <td>Griffin High School</td>\n",
       "      <td>Charter</td>\n",
       "      <td>1371</td>\n",
       "    </tr>\n",
       "  </tbody>\n",
       "</table>\n",
       "</div>"
      ],
      "text/plain": [
       "                               math_score\n",
       "school_name          type                \n",
       "Bailey High School   District        3318\n",
       "Cabrera High School  Charter         1749\n",
       "Figueroa High School District        1946\n",
       "Ford High School     District        1871\n",
       "Griffin High School  Charter         1371"
      ]
     },
     "execution_count": 10,
     "metadata": {},
     "output_type": "execute_result"
    }
   ],
   "source": [
    "#Here I identifie the total students who passed by school in math and reading\n",
    "PassMathperschool = school_data_complete.loc[school_data_complete[\"math_score\"] >= 70, [\"math_score\",\"school_name\",'type']]\n",
    "PassReadingperschool = school_data_complete.loc[school_data_complete[\"reading_score\"] >= 70,[\"reading_score\",\"school_name\",'type']]\n",
    "\n",
    "PassMathperschool = PassMathperschool.groupby(['school_name','type']).count()\n",
    "PassReadingperschool= PassReadingperschool.groupby(['school_name','type']).count()\n",
    "\n",
    "PassMathperschool = pd.DataFrame(PassMathperschool)\n",
    "PassReadingperschool = pd.DataFrame(PassReadingperschool)\n",
    "\n",
    "PassMathperschool.head()"
   ]
  },
  {
   "cell_type": "code",
   "execution_count": 11,
   "metadata": {},
   "outputs": [],
   "source": [
    "#Merge data columns till now\n",
    "alldata = pd.merge(School_Summary, PassReadingperschool, on= ['school_name','type'])\n",
    "SchoolSummary = pd.merge(alldata, PassMathperschool, on= ['school_name','type'])"
   ]
  },
  {
   "cell_type": "code",
   "execution_count": 12,
   "metadata": {},
   "outputs": [
    {
     "data": {
      "text/html": [
       "<div>\n",
       "<style scoped>\n",
       "    .dataframe tbody tr th:only-of-type {\n",
       "        vertical-align: middle;\n",
       "    }\n",
       "\n",
       "    .dataframe tbody tr th {\n",
       "        vertical-align: top;\n",
       "    }\n",
       "\n",
       "    .dataframe thead th {\n",
       "        text-align: right;\n",
       "    }\n",
       "</style>\n",
       "<table border=\"1\" class=\"dataframe\">\n",
       "  <thead>\n",
       "    <tr style=\"text-align: right;\">\n",
       "      <th></th>\n",
       "      <th></th>\n",
       "      <th>Budget</th>\n",
       "      <th>Av_read</th>\n",
       "      <th>Av_math</th>\n",
       "      <th>Tot_stud</th>\n",
       "      <th>reading_score</th>\n",
       "      <th>math_score</th>\n",
       "      <th>Per Student Budget</th>\n",
       "      <th>MathPercent</th>\n",
       "      <th>ReadPercent</th>\n",
       "      <th>OverallPercent</th>\n",
       "    </tr>\n",
       "    <tr>\n",
       "      <th>school_name</th>\n",
       "      <th>type</th>\n",
       "      <th></th>\n",
       "      <th></th>\n",
       "      <th></th>\n",
       "      <th></th>\n",
       "      <th></th>\n",
       "      <th></th>\n",
       "      <th></th>\n",
       "      <th></th>\n",
       "      <th></th>\n",
       "      <th></th>\n",
       "    </tr>\n",
       "  </thead>\n",
       "  <tbody>\n",
       "    <tr>\n",
       "      <td>Bailey High School</td>\n",
       "      <td>District</td>\n",
       "      <td>3124928</td>\n",
       "      <td>81.033963</td>\n",
       "      <td>77.048432</td>\n",
       "      <td>4976</td>\n",
       "      <td>4077</td>\n",
       "      <td>3318</td>\n",
       "      <td>628.0</td>\n",
       "      <td>0.666801</td>\n",
       "      <td>0.819333</td>\n",
       "      <td>0.743067</td>\n",
       "    </tr>\n",
       "    <tr>\n",
       "      <td>Cabrera High School</td>\n",
       "      <td>Charter</td>\n",
       "      <td>1081356</td>\n",
       "      <td>83.975780</td>\n",
       "      <td>83.061895</td>\n",
       "      <td>1858</td>\n",
       "      <td>1803</td>\n",
       "      <td>1749</td>\n",
       "      <td>582.0</td>\n",
       "      <td>0.941335</td>\n",
       "      <td>0.970398</td>\n",
       "      <td>0.955867</td>\n",
       "    </tr>\n",
       "    <tr>\n",
       "      <td>Figueroa High School</td>\n",
       "      <td>District</td>\n",
       "      <td>1884411</td>\n",
       "      <td>81.158020</td>\n",
       "      <td>76.711767</td>\n",
       "      <td>2949</td>\n",
       "      <td>2381</td>\n",
       "      <td>1946</td>\n",
       "      <td>639.0</td>\n",
       "      <td>0.659885</td>\n",
       "      <td>0.807392</td>\n",
       "      <td>0.733639</td>\n",
       "    </tr>\n",
       "    <tr>\n",
       "      <td>Ford High School</td>\n",
       "      <td>District</td>\n",
       "      <td>1763916</td>\n",
       "      <td>80.746258</td>\n",
       "      <td>77.102592</td>\n",
       "      <td>2739</td>\n",
       "      <td>2172</td>\n",
       "      <td>1871</td>\n",
       "      <td>644.0</td>\n",
       "      <td>0.683096</td>\n",
       "      <td>0.792990</td>\n",
       "      <td>0.738043</td>\n",
       "    </tr>\n",
       "    <tr>\n",
       "      <td>Griffin High School</td>\n",
       "      <td>Charter</td>\n",
       "      <td>917500</td>\n",
       "      <td>83.816757</td>\n",
       "      <td>83.351499</td>\n",
       "      <td>1468</td>\n",
       "      <td>1426</td>\n",
       "      <td>1371</td>\n",
       "      <td>625.0</td>\n",
       "      <td>0.933924</td>\n",
       "      <td>0.971390</td>\n",
       "      <td>0.952657</td>\n",
       "    </tr>\n",
       "  </tbody>\n",
       "</table>\n",
       "</div>"
      ],
      "text/plain": [
       "                                Budget    Av_read    Av_math  Tot_stud  \\\n",
       "school_name          type                                                \n",
       "Bailey High School   District  3124928  81.033963  77.048432      4976   \n",
       "Cabrera High School  Charter   1081356  83.975780  83.061895      1858   \n",
       "Figueroa High School District  1884411  81.158020  76.711767      2949   \n",
       "Ford High School     District  1763916  80.746258  77.102592      2739   \n",
       "Griffin High School  Charter    917500  83.816757  83.351499      1468   \n",
       "\n",
       "                               reading_score  math_score  Per Student Budget  \\\n",
       "school_name          type                                                      \n",
       "Bailey High School   District           4077        3318               628.0   \n",
       "Cabrera High School  Charter            1803        1749               582.0   \n",
       "Figueroa High School District           2381        1946               639.0   \n",
       "Ford High School     District           2172        1871               644.0   \n",
       "Griffin High School  Charter            1426        1371               625.0   \n",
       "\n",
       "                               MathPercent  ReadPercent  OverallPercent  \n",
       "school_name          type                                                \n",
       "Bailey High School   District     0.666801     0.819333        0.743067  \n",
       "Cabrera High School  Charter      0.941335     0.970398        0.955867  \n",
       "Figueroa High School District     0.659885     0.807392        0.733639  \n",
       "Ford High School     District     0.683096     0.792990        0.738043  \n",
       "Griffin High School  Charter      0.933924     0.971390        0.952657  "
      ]
     },
     "execution_count": 12,
     "metadata": {},
     "output_type": "execute_result"
    }
   ],
   "source": [
    "#Calculate percentages and add them in new columns, using the data of the new dataframe\n",
    "SchoolSummary['Per Student Budget'] = (SchoolSummary['Budget']/SchoolSummary['Tot_stud'])\n",
    "SchoolSummary['MathPercent'] = (SchoolSummary['math_score']/SchoolSummary['Tot_stud'])\n",
    "SchoolSummary['ReadPercent'] = (SchoolSummary['reading_score']/SchoolSummary['Tot_stud'])\n",
    "SchoolSummary['OverallPercent'] = (SchoolSummary['math_score']+SchoolSummary['reading_score'])/(SchoolSummary['Tot_stud']*2)\n",
    "SchoolSummary.head()\n"
   ]
  },
  {
   "cell_type": "markdown",
   "metadata": {},
   "source": [
    "## Just Formatting! "
   ]
  },
  {
   "cell_type": "code",
   "execution_count": 13,
   "metadata": {},
   "outputs": [],
   "source": [
    "School_Summary = pd.DataFrame(SchoolSummary)\n",
    "School_Summary.index.names = ['School Name', 'School Type']\n",
    "School_Summary2 = School_Summary.rename(columns={'Av_read': 'Average Reading Score', 'Av_math' : 'Average Math Score', \n",
    "                                        'Tot_stud' : 'Total Students', 'reading_score' : 'ReadingPass',\n",
    "                                        'math_score': 'MathPass', 'MathPercent' : \"% Passing Math\" ,\n",
    "                                        'ReadPercent': \"% Passing Reading \", 'OverallPercent' : '% Overall Passing Rate'})\n",
    "School_Summary = School_Summary2.drop(['MathPass','ReadingPass'], axis=1)\n",
    "\n",
    "School_Summary['Budget'] = [\"${:0,.0f}\".format(x) for x in School_Summary['Budget']]\n",
    "School_Summary['Average Reading Score'] = [round(x,2) for x in School_Summary['Average Reading Score']]\n",
    "School_Summary['Average Math Score'] = [round(x,2) for x in School_Summary['Average Math Score']]                                    \n",
    "School_Summary['% Passing Math'] = [\"{0:.0%}\".format(x) for x in School_Summary['% Passing Math']]\n",
    "School_Summary['% Passing Reading '] = [\"{0:.0%}\".format(x) for x in School_Summary['% Passing Reading ']]\n",
    "School_Summary['% Overall Passing Rate'] = [\"{0:.0%}\".format(x) for x in School_Summary['% Overall Passing Rate']]                                  \n",
    "        "
   ]
  },
  {
   "cell_type": "code",
   "execution_count": null,
   "metadata": {},
   "outputs": [],
   "source": []
  },
  {
   "cell_type": "markdown",
   "metadata": {},
   "source": [
    "## Top Performing Schools (By Passing Rate)"
   ]
  },
  {
   "cell_type": "markdown",
   "metadata": {},
   "source": [
    "* Sort and display the top five schools in overall passing rate"
   ]
  },
  {
   "cell_type": "code",
   "execution_count": 14,
   "metadata": {},
   "outputs": [
    {
     "data": {
      "text/html": [
       "<div>\n",
       "<style scoped>\n",
       "    .dataframe tbody tr th:only-of-type {\n",
       "        vertical-align: middle;\n",
       "    }\n",
       "\n",
       "    .dataframe tbody tr th {\n",
       "        vertical-align: top;\n",
       "    }\n",
       "\n",
       "    .dataframe thead th {\n",
       "        text-align: right;\n",
       "    }\n",
       "</style>\n",
       "<table border=\"1\" class=\"dataframe\">\n",
       "  <thead>\n",
       "    <tr style=\"text-align: right;\">\n",
       "      <th></th>\n",
       "      <th></th>\n",
       "      <th>Budget</th>\n",
       "      <th>Average Reading Score</th>\n",
       "      <th>Average Math Score</th>\n",
       "      <th>Total Students</th>\n",
       "      <th>Per Student Budget</th>\n",
       "      <th>% Passing Math</th>\n",
       "      <th>% Passing Reading</th>\n",
       "      <th>% Overall Passing Rate</th>\n",
       "    </tr>\n",
       "    <tr>\n",
       "      <th>School Name</th>\n",
       "      <th>School Type</th>\n",
       "      <th></th>\n",
       "      <th></th>\n",
       "      <th></th>\n",
       "      <th></th>\n",
       "      <th></th>\n",
       "      <th></th>\n",
       "      <th></th>\n",
       "      <th></th>\n",
       "    </tr>\n",
       "  </thead>\n",
       "  <tbody>\n",
       "    <tr>\n",
       "      <td>Cabrera High School</td>\n",
       "      <td>Charter</td>\n",
       "      <td>$1,081,356</td>\n",
       "      <td>83.98</td>\n",
       "      <td>83.06</td>\n",
       "      <td>1858</td>\n",
       "      <td>582.0</td>\n",
       "      <td>94%</td>\n",
       "      <td>97%</td>\n",
       "      <td>96%</td>\n",
       "    </tr>\n",
       "    <tr>\n",
       "      <td>Griffin High School</td>\n",
       "      <td>Charter</td>\n",
       "      <td>$917,500</td>\n",
       "      <td>83.82</td>\n",
       "      <td>83.35</td>\n",
       "      <td>1468</td>\n",
       "      <td>625.0</td>\n",
       "      <td>93%</td>\n",
       "      <td>97%</td>\n",
       "      <td>95%</td>\n",
       "    </tr>\n",
       "    <tr>\n",
       "      <td>Pena High School</td>\n",
       "      <td>Charter</td>\n",
       "      <td>$585,858</td>\n",
       "      <td>84.04</td>\n",
       "      <td>83.84</td>\n",
       "      <td>962</td>\n",
       "      <td>609.0</td>\n",
       "      <td>95%</td>\n",
       "      <td>96%</td>\n",
       "      <td>95%</td>\n",
       "    </tr>\n",
       "    <tr>\n",
       "      <td>Shelton High School</td>\n",
       "      <td>Charter</td>\n",
       "      <td>$1,056,600</td>\n",
       "      <td>83.73</td>\n",
       "      <td>83.36</td>\n",
       "      <td>1761</td>\n",
       "      <td>600.0</td>\n",
       "      <td>94%</td>\n",
       "      <td>96%</td>\n",
       "      <td>95%</td>\n",
       "    </tr>\n",
       "    <tr>\n",
       "      <td>Thomas High School</td>\n",
       "      <td>Charter</td>\n",
       "      <td>$1,043,130</td>\n",
       "      <td>83.85</td>\n",
       "      <td>83.42</td>\n",
       "      <td>1635</td>\n",
       "      <td>638.0</td>\n",
       "      <td>93%</td>\n",
       "      <td>97%</td>\n",
       "      <td>95%</td>\n",
       "    </tr>\n",
       "  </tbody>\n",
       "</table>\n",
       "</div>"
      ],
      "text/plain": [
       "                                     Budget  Average Reading Score  \\\n",
       "School Name         School Type                                      \n",
       "Cabrera High School Charter      $1,081,356                  83.98   \n",
       "Griffin High School Charter        $917,500                  83.82   \n",
       "Pena High School    Charter        $585,858                  84.04   \n",
       "Shelton High School Charter      $1,056,600                  83.73   \n",
       "Thomas High School  Charter      $1,043,130                  83.85   \n",
       "\n",
       "                                 Average Math Score  Total Students  \\\n",
       "School Name         School Type                                       \n",
       "Cabrera High School Charter                   83.06            1858   \n",
       "Griffin High School Charter                   83.35            1468   \n",
       "Pena High School    Charter                   83.84             962   \n",
       "Shelton High School Charter                   83.36            1761   \n",
       "Thomas High School  Charter                   83.42            1635   \n",
       "\n",
       "                                 Per Student Budget % Passing Math  \\\n",
       "School Name         School Type                                      \n",
       "Cabrera High School Charter                   582.0            94%   \n",
       "Griffin High School Charter                   625.0            93%   \n",
       "Pena High School    Charter                   609.0            95%   \n",
       "Shelton High School Charter                   600.0            94%   \n",
       "Thomas High School  Charter                   638.0            93%   \n",
       "\n",
       "                                % Passing Reading  % Overall Passing Rate  \n",
       "School Name         School Type                                            \n",
       "Cabrera High School Charter                    97%                    96%  \n",
       "Griffin High School Charter                    97%                    95%  \n",
       "Pena High School    Charter                    96%                    95%  \n",
       "Shelton High School Charter                    96%                    95%  \n",
       "Thomas High School  Charter                    97%                    95%  "
      ]
     },
     "execution_count": 14,
     "metadata": {},
     "output_type": "execute_result"
    }
   ],
   "source": [
    "School_Summary = School_Summary.sort_values(by=['% Overall Passing Rate'], ascending=False)\n",
    "School_Summary.head()"
   ]
  },
  {
   "cell_type": "markdown",
   "metadata": {},
   "source": [
    "## Bottom Performing Schools (By Passing Rate)"
   ]
  },
  {
   "cell_type": "markdown",
   "metadata": {},
   "source": [
    "* Sort and display the five worst-performing schools"
   ]
  },
  {
   "cell_type": "code",
   "execution_count": 15,
   "metadata": {},
   "outputs": [
    {
     "data": {
      "text/html": [
       "<div>\n",
       "<style scoped>\n",
       "    .dataframe tbody tr th:only-of-type {\n",
       "        vertical-align: middle;\n",
       "    }\n",
       "\n",
       "    .dataframe tbody tr th {\n",
       "        vertical-align: top;\n",
       "    }\n",
       "\n",
       "    .dataframe thead th {\n",
       "        text-align: right;\n",
       "    }\n",
       "</style>\n",
       "<table border=\"1\" class=\"dataframe\">\n",
       "  <thead>\n",
       "    <tr style=\"text-align: right;\">\n",
       "      <th></th>\n",
       "      <th></th>\n",
       "      <th>Budget</th>\n",
       "      <th>Average Reading Score</th>\n",
       "      <th>Average Math Score</th>\n",
       "      <th>Total Students</th>\n",
       "      <th>Per Student Budget</th>\n",
       "      <th>% Passing Math</th>\n",
       "      <th>% Passing Reading</th>\n",
       "      <th>% Overall Passing Rate</th>\n",
       "    </tr>\n",
       "    <tr>\n",
       "      <th>School Name</th>\n",
       "      <th>School Type</th>\n",
       "      <th></th>\n",
       "      <th></th>\n",
       "      <th></th>\n",
       "      <th></th>\n",
       "      <th></th>\n",
       "      <th></th>\n",
       "      <th></th>\n",
       "      <th></th>\n",
       "    </tr>\n",
       "  </thead>\n",
       "  <tbody>\n",
       "    <tr>\n",
       "      <td>Hernandez High School</td>\n",
       "      <td>District</td>\n",
       "      <td>$3,022,020</td>\n",
       "      <td>80.93</td>\n",
       "      <td>77.29</td>\n",
       "      <td>4635</td>\n",
       "      <td>652.0</td>\n",
       "      <td>67%</td>\n",
       "      <td>81%</td>\n",
       "      <td>74%</td>\n",
       "    </tr>\n",
       "    <tr>\n",
       "      <td>Huang High School</td>\n",
       "      <td>District</td>\n",
       "      <td>$1,910,635</td>\n",
       "      <td>81.18</td>\n",
       "      <td>76.63</td>\n",
       "      <td>2917</td>\n",
       "      <td>655.0</td>\n",
       "      <td>66%</td>\n",
       "      <td>81%</td>\n",
       "      <td>74%</td>\n",
       "    </tr>\n",
       "    <tr>\n",
       "      <td>Johnson High School</td>\n",
       "      <td>District</td>\n",
       "      <td>$3,094,650</td>\n",
       "      <td>80.97</td>\n",
       "      <td>77.07</td>\n",
       "      <td>4761</td>\n",
       "      <td>650.0</td>\n",
       "      <td>66%</td>\n",
       "      <td>81%</td>\n",
       "      <td>74%</td>\n",
       "    </tr>\n",
       "    <tr>\n",
       "      <td>Figueroa High School</td>\n",
       "      <td>District</td>\n",
       "      <td>$1,884,411</td>\n",
       "      <td>81.16</td>\n",
       "      <td>76.71</td>\n",
       "      <td>2949</td>\n",
       "      <td>639.0</td>\n",
       "      <td>66%</td>\n",
       "      <td>81%</td>\n",
       "      <td>73%</td>\n",
       "    </tr>\n",
       "    <tr>\n",
       "      <td>Rodriguez High School</td>\n",
       "      <td>District</td>\n",
       "      <td>$2,547,363</td>\n",
       "      <td>80.74</td>\n",
       "      <td>76.84</td>\n",
       "      <td>3999</td>\n",
       "      <td>637.0</td>\n",
       "      <td>66%</td>\n",
       "      <td>80%</td>\n",
       "      <td>73%</td>\n",
       "    </tr>\n",
       "  </tbody>\n",
       "</table>\n",
       "</div>"
      ],
      "text/plain": [
       "                                       Budget  Average Reading Score  \\\n",
       "School Name           School Type                                      \n",
       "Hernandez High School District     $3,022,020                  80.93   \n",
       "Huang High School     District     $1,910,635                  81.18   \n",
       "Johnson High School   District     $3,094,650                  80.97   \n",
       "Figueroa High School  District     $1,884,411                  81.16   \n",
       "Rodriguez High School District     $2,547,363                  80.74   \n",
       "\n",
       "                                   Average Math Score  Total Students  \\\n",
       "School Name           School Type                                       \n",
       "Hernandez High School District                  77.29            4635   \n",
       "Huang High School     District                  76.63            2917   \n",
       "Johnson High School   District                  77.07            4761   \n",
       "Figueroa High School  District                  76.71            2949   \n",
       "Rodriguez High School District                  76.84            3999   \n",
       "\n",
       "                                   Per Student Budget % Passing Math  \\\n",
       "School Name           School Type                                      \n",
       "Hernandez High School District                  652.0            67%   \n",
       "Huang High School     District                  655.0            66%   \n",
       "Johnson High School   District                  650.0            66%   \n",
       "Figueroa High School  District                  639.0            66%   \n",
       "Rodriguez High School District                  637.0            66%   \n",
       "\n",
       "                                  % Passing Reading  % Overall Passing Rate  \n",
       "School Name           School Type                                            \n",
       "Hernandez High School District                   81%                    74%  \n",
       "Huang High School     District                   81%                    74%  \n",
       "Johnson High School   District                   81%                    74%  \n",
       "Figueroa High School  District                   81%                    73%  \n",
       "Rodriguez High School District                   80%                    73%  "
      ]
     },
     "execution_count": 15,
     "metadata": {},
     "output_type": "execute_result"
    }
   ],
   "source": [
    "School_Summary.tail()"
   ]
  },
  {
   "cell_type": "markdown",
   "metadata": {
    "collapsed": true
   },
   "source": [
    "## Math Scores by Grade"
   ]
  },
  {
   "cell_type": "markdown",
   "metadata": {},
   "source": [
    "* Create a table that lists the average Reading Score for students of each grade level (9th, 10th, 11th, 12th) at each school.\n",
    "\n",
    "  * Create a pandas series for each grade. Hint: use a conditional statement.\n",
    "  \n",
    "  * Group each series by school\n",
    "  \n",
    "  * Combine the series into a dataframe\n",
    "  \n",
    "  * Optional: give the displayed data cleaner formatting"
   ]
  },
  {
   "cell_type": "code",
   "execution_count": 16,
   "metadata": {},
   "outputs": [],
   "source": [
    "nineth = school_data_complete.loc[school_data_complete[\"grade\"] == \"9th\",['school_name', 'math_score']]\n",
    "tenth = school_data_complete.loc[school_data_complete[\"grade\"] == \"10th\",['school_name', 'math_score']]\n",
    "eleventh = school_data_complete.loc[school_data_complete[\"grade\"] == \"11th\",['school_name', 'math_score']]\n",
    "twelveth = school_data_complete.loc[school_data_complete[\"grade\"] == \"12th\",['school_name', 'math_score']]\n",
    "\n",
    "nineth = round(nineth.groupby(['school_name']).mean(),2)\n",
    "tenth = round(tenth.groupby(['school_name']).mean(),2)\n",
    "eleventh = round(eleventh.groupby(['school_name']).mean(),2)\n",
    "twelveth = round(twelveth.groupby(['school_name']).mean(),2)"
   ]
  },
  {
   "cell_type": "code",
   "execution_count": 17,
   "metadata": {},
   "outputs": [
    {
     "data": {
      "text/html": [
       "<div>\n",
       "<style scoped>\n",
       "    .dataframe tbody tr th:only-of-type {\n",
       "        vertical-align: middle;\n",
       "    }\n",
       "\n",
       "    .dataframe tbody tr th {\n",
       "        vertical-align: top;\n",
       "    }\n",
       "\n",
       "    .dataframe thead th {\n",
       "        text-align: right;\n",
       "    }\n",
       "</style>\n",
       "<table border=\"1\" class=\"dataframe\">\n",
       "  <thead>\n",
       "    <tr style=\"text-align: right;\">\n",
       "      <th></th>\n",
       "      <th>9th</th>\n",
       "      <th>10th</th>\n",
       "      <th>11th</th>\n",
       "      <th>12th</th>\n",
       "    </tr>\n",
       "    <tr>\n",
       "      <th>School</th>\n",
       "      <th></th>\n",
       "      <th></th>\n",
       "      <th></th>\n",
       "      <th></th>\n",
       "    </tr>\n",
       "  </thead>\n",
       "  <tbody>\n",
       "    <tr>\n",
       "      <td>Bailey High School</td>\n",
       "      <td>77.08</td>\n",
       "      <td>77.00</td>\n",
       "      <td>77.52</td>\n",
       "      <td>76.49</td>\n",
       "    </tr>\n",
       "    <tr>\n",
       "      <td>Cabrera High School</td>\n",
       "      <td>83.09</td>\n",
       "      <td>83.15</td>\n",
       "      <td>82.77</td>\n",
       "      <td>83.28</td>\n",
       "    </tr>\n",
       "    <tr>\n",
       "      <td>Figueroa High School</td>\n",
       "      <td>76.40</td>\n",
       "      <td>76.54</td>\n",
       "      <td>76.88</td>\n",
       "      <td>77.15</td>\n",
       "    </tr>\n",
       "    <tr>\n",
       "      <td>Ford High School</td>\n",
       "      <td>77.36</td>\n",
       "      <td>77.67</td>\n",
       "      <td>76.92</td>\n",
       "      <td>76.18</td>\n",
       "    </tr>\n",
       "    <tr>\n",
       "      <td>Griffin High School</td>\n",
       "      <td>82.04</td>\n",
       "      <td>84.23</td>\n",
       "      <td>83.84</td>\n",
       "      <td>83.36</td>\n",
       "    </tr>\n",
       "    <tr>\n",
       "      <td>Hernandez High School</td>\n",
       "      <td>77.44</td>\n",
       "      <td>77.34</td>\n",
       "      <td>77.14</td>\n",
       "      <td>77.19</td>\n",
       "    </tr>\n",
       "    <tr>\n",
       "      <td>Holden High School</td>\n",
       "      <td>83.79</td>\n",
       "      <td>83.43</td>\n",
       "      <td>85.00</td>\n",
       "      <td>82.86</td>\n",
       "    </tr>\n",
       "    <tr>\n",
       "      <td>Huang High School</td>\n",
       "      <td>77.03</td>\n",
       "      <td>75.91</td>\n",
       "      <td>76.45</td>\n",
       "      <td>77.23</td>\n",
       "    </tr>\n",
       "    <tr>\n",
       "      <td>Johnson High School</td>\n",
       "      <td>77.19</td>\n",
       "      <td>76.69</td>\n",
       "      <td>77.49</td>\n",
       "      <td>76.86</td>\n",
       "    </tr>\n",
       "    <tr>\n",
       "      <td>Pena High School</td>\n",
       "      <td>83.63</td>\n",
       "      <td>83.37</td>\n",
       "      <td>84.33</td>\n",
       "      <td>84.12</td>\n",
       "    </tr>\n",
       "    <tr>\n",
       "      <td>Rodriguez High School</td>\n",
       "      <td>76.86</td>\n",
       "      <td>76.61</td>\n",
       "      <td>76.40</td>\n",
       "      <td>77.69</td>\n",
       "    </tr>\n",
       "    <tr>\n",
       "      <td>Shelton High School</td>\n",
       "      <td>83.42</td>\n",
       "      <td>82.92</td>\n",
       "      <td>83.38</td>\n",
       "      <td>83.78</td>\n",
       "    </tr>\n",
       "    <tr>\n",
       "      <td>Thomas High School</td>\n",
       "      <td>83.59</td>\n",
       "      <td>83.09</td>\n",
       "      <td>83.50</td>\n",
       "      <td>83.50</td>\n",
       "    </tr>\n",
       "    <tr>\n",
       "      <td>Wilson High School</td>\n",
       "      <td>83.09</td>\n",
       "      <td>83.72</td>\n",
       "      <td>83.20</td>\n",
       "      <td>83.04</td>\n",
       "    </tr>\n",
       "    <tr>\n",
       "      <td>Wright High School</td>\n",
       "      <td>83.26</td>\n",
       "      <td>84.01</td>\n",
       "      <td>83.84</td>\n",
       "      <td>83.64</td>\n",
       "    </tr>\n",
       "  </tbody>\n",
       "</table>\n",
       "</div>"
      ],
      "text/plain": [
       "                         9th   10th   11th   12th\n",
       "School                                           \n",
       "Bailey High School     77.08  77.00  77.52  76.49\n",
       "Cabrera High School    83.09  83.15  82.77  83.28\n",
       "Figueroa High School   76.40  76.54  76.88  77.15\n",
       "Ford High School       77.36  77.67  76.92  76.18\n",
       "Griffin High School    82.04  84.23  83.84  83.36\n",
       "Hernandez High School  77.44  77.34  77.14  77.19\n",
       "Holden High School     83.79  83.43  85.00  82.86\n",
       "Huang High School      77.03  75.91  76.45  77.23\n",
       "Johnson High School    77.19  76.69  77.49  76.86\n",
       "Pena High School       83.63  83.37  84.33  84.12\n",
       "Rodriguez High School  76.86  76.61  76.40  77.69\n",
       "Shelton High School    83.42  82.92  83.38  83.78\n",
       "Thomas High School     83.59  83.09  83.50  83.50\n",
       "Wilson High School     83.09  83.72  83.20  83.04\n",
       "Wright High School     83.26  84.01  83.84  83.64"
      ]
     },
     "execution_count": 17,
     "metadata": {},
     "output_type": "execute_result"
    }
   ],
   "source": [
    "Math = pd.merge(nineth,tenth, on='school_name', suffixes=('9th', '10th'))\n",
    "Math = pd.merge(Math, eleventh, on='school_name')\n",
    "Math = pd.merge(Math, twelveth, on='school_name', suffixes=('11th','12th'))\n",
    "\n",
    "Math = Math.rename(columns={'math_score9th' : '9th', 'math_score10th' : '10th', 'math_score11th' : '11th',\n",
    "       'math_score12th': '12th'})\n",
    "Math.index.name = 'School'\n",
    "Math\n"
   ]
  },
  {
   "cell_type": "markdown",
   "metadata": {},
   "source": [
    "## Reading Score by Grade "
   ]
  },
  {
   "cell_type": "markdown",
   "metadata": {},
   "source": [
    "* Perform the same operations as above for reading scores"
   ]
  },
  {
   "cell_type": "code",
   "execution_count": 18,
   "metadata": {},
   "outputs": [],
   "source": [
    "nine = school_data_complete.loc[school_data_complete[\"grade\"] == \"9th\",['school_name', 'reading_score']]\n",
    "ten = school_data_complete.loc[school_data_complete[\"grade\"] == \"10th\",['school_name', 'reading_score']]\n",
    "eleven = school_data_complete.loc[school_data_complete[\"grade\"] == \"11th\",['school_name', 'reading_score']]\n",
    "twelve = school_data_complete.loc[school_data_complete[\"grade\"] == \"12th\",['school_name', 'reading_score']]\n",
    "\n",
    "nine = round(nine.groupby(['school_name']).mean(),2)\n",
    "ten = round(ten.groupby(['school_name']).mean(),2)\n",
    "eleven = round(eleven.groupby(['school_name']).mean())\n",
    "twelve = round(twelve.groupby(['school_name']).mean())"
   ]
  },
  {
   "cell_type": "code",
   "execution_count": 19,
   "metadata": {},
   "outputs": [
    {
     "data": {
      "text/html": [
       "<div>\n",
       "<style scoped>\n",
       "    .dataframe tbody tr th:only-of-type {\n",
       "        vertical-align: middle;\n",
       "    }\n",
       "\n",
       "    .dataframe tbody tr th {\n",
       "        vertical-align: top;\n",
       "    }\n",
       "\n",
       "    .dataframe thead th {\n",
       "        text-align: right;\n",
       "    }\n",
       "</style>\n",
       "<table border=\"1\" class=\"dataframe\">\n",
       "  <thead>\n",
       "    <tr style=\"text-align: right;\">\n",
       "      <th></th>\n",
       "      <th>9th</th>\n",
       "      <th>10th</th>\n",
       "      <th>11th</th>\n",
       "      <th>12th</th>\n",
       "    </tr>\n",
       "    <tr>\n",
       "      <th>School</th>\n",
       "      <th></th>\n",
       "      <th></th>\n",
       "      <th></th>\n",
       "      <th></th>\n",
       "    </tr>\n",
       "  </thead>\n",
       "  <tbody>\n",
       "    <tr>\n",
       "      <td>Bailey High School</td>\n",
       "      <td>81.30</td>\n",
       "      <td>80.91</td>\n",
       "      <td>81.0</td>\n",
       "      <td>81.0</td>\n",
       "    </tr>\n",
       "    <tr>\n",
       "      <td>Cabrera High School</td>\n",
       "      <td>83.68</td>\n",
       "      <td>84.25</td>\n",
       "      <td>84.0</td>\n",
       "      <td>84.0</td>\n",
       "    </tr>\n",
       "    <tr>\n",
       "      <td>Figueroa High School</td>\n",
       "      <td>81.20</td>\n",
       "      <td>81.41</td>\n",
       "      <td>81.0</td>\n",
       "      <td>81.0</td>\n",
       "    </tr>\n",
       "    <tr>\n",
       "      <td>Ford High School</td>\n",
       "      <td>80.63</td>\n",
       "      <td>81.26</td>\n",
       "      <td>80.0</td>\n",
       "      <td>81.0</td>\n",
       "    </tr>\n",
       "    <tr>\n",
       "      <td>Griffin High School</td>\n",
       "      <td>83.37</td>\n",
       "      <td>83.71</td>\n",
       "      <td>84.0</td>\n",
       "      <td>84.0</td>\n",
       "    </tr>\n",
       "    <tr>\n",
       "      <td>Hernandez High School</td>\n",
       "      <td>80.87</td>\n",
       "      <td>80.66</td>\n",
       "      <td>81.0</td>\n",
       "      <td>81.0</td>\n",
       "    </tr>\n",
       "    <tr>\n",
       "      <td>Holden High School</td>\n",
       "      <td>83.68</td>\n",
       "      <td>83.32</td>\n",
       "      <td>84.0</td>\n",
       "      <td>85.0</td>\n",
       "    </tr>\n",
       "    <tr>\n",
       "      <td>Huang High School</td>\n",
       "      <td>81.29</td>\n",
       "      <td>81.51</td>\n",
       "      <td>81.0</td>\n",
       "      <td>80.0</td>\n",
       "    </tr>\n",
       "    <tr>\n",
       "      <td>Johnson High School</td>\n",
       "      <td>81.26</td>\n",
       "      <td>80.77</td>\n",
       "      <td>81.0</td>\n",
       "      <td>81.0</td>\n",
       "    </tr>\n",
       "    <tr>\n",
       "      <td>Pena High School</td>\n",
       "      <td>83.81</td>\n",
       "      <td>83.61</td>\n",
       "      <td>84.0</td>\n",
       "      <td>85.0</td>\n",
       "    </tr>\n",
       "    <tr>\n",
       "      <td>Rodriguez High School</td>\n",
       "      <td>80.99</td>\n",
       "      <td>80.63</td>\n",
       "      <td>81.0</td>\n",
       "      <td>80.0</td>\n",
       "    </tr>\n",
       "    <tr>\n",
       "      <td>Shelton High School</td>\n",
       "      <td>84.12</td>\n",
       "      <td>83.44</td>\n",
       "      <td>84.0</td>\n",
       "      <td>83.0</td>\n",
       "    </tr>\n",
       "    <tr>\n",
       "      <td>Thomas High School</td>\n",
       "      <td>83.73</td>\n",
       "      <td>84.25</td>\n",
       "      <td>84.0</td>\n",
       "      <td>84.0</td>\n",
       "    </tr>\n",
       "    <tr>\n",
       "      <td>Wilson High School</td>\n",
       "      <td>83.94</td>\n",
       "      <td>84.02</td>\n",
       "      <td>84.0</td>\n",
       "      <td>84.0</td>\n",
       "    </tr>\n",
       "    <tr>\n",
       "      <td>Wright High School</td>\n",
       "      <td>83.83</td>\n",
       "      <td>83.81</td>\n",
       "      <td>84.0</td>\n",
       "      <td>84.0</td>\n",
       "    </tr>\n",
       "  </tbody>\n",
       "</table>\n",
       "</div>"
      ],
      "text/plain": [
       "                         9th   10th  11th  12th\n",
       "School                                         \n",
       "Bailey High School     81.30  80.91  81.0  81.0\n",
       "Cabrera High School    83.68  84.25  84.0  84.0\n",
       "Figueroa High School   81.20  81.41  81.0  81.0\n",
       "Ford High School       80.63  81.26  80.0  81.0\n",
       "Griffin High School    83.37  83.71  84.0  84.0\n",
       "Hernandez High School  80.87  80.66  81.0  81.0\n",
       "Holden High School     83.68  83.32  84.0  85.0\n",
       "Huang High School      81.29  81.51  81.0  80.0\n",
       "Johnson High School    81.26  80.77  81.0  81.0\n",
       "Pena High School       83.81  83.61  84.0  85.0\n",
       "Rodriguez High School  80.99  80.63  81.0  80.0\n",
       "Shelton High School    84.12  83.44  84.0  83.0\n",
       "Thomas High School     83.73  84.25  84.0  84.0\n",
       "Wilson High School     83.94  84.02  84.0  84.0\n",
       "Wright High School     83.83  83.81  84.0  84.0"
      ]
     },
     "execution_count": 19,
     "metadata": {},
     "output_type": "execute_result"
    }
   ],
   "source": [
    "Reading = pd.merge(nine,ten, on='school_name', suffixes=('9th', '10th'))\n",
    "Reading = pd.merge(Reading, eleven, on='school_name')\n",
    "Reading = pd.merge(Reading, twelve, on='school_name', suffixes=('11th','12th'))\n",
    "\n",
    "Reading = Reading.rename(columns={'reading_score9th' : '9th', 'reading_score10th' : '10th', 'reading_score11th' : '11th',\n",
    "       'reading_score12th': '12th'})\n",
    "Reading.index.name = 'School'\n",
    "\n",
    "layout : tuple ('Reading score')\n",
    "Reading"
   ]
  },
  {
   "cell_type": "markdown",
   "metadata": {},
   "source": [
    "## Scores by School Spending"
   ]
  },
  {
   "cell_type": "markdown",
   "metadata": {},
   "source": [
    "* Create a table that breaks down school performances based on average Spending Ranges (Per Student). Use 4 reasonable bins to group school spending. Include in the table each of the following:\n",
    "  * Average Math Score\n",
    "  * Average Reading Score\n",
    "  * % Passing Math\n",
    "  * % Passing Reading\n",
    "  * Overall Passing Rate (Average of the above two)"
   ]
  },
  {
   "cell_type": "code",
   "execution_count": 20,
   "metadata": {},
   "outputs": [],
   "source": [
    "# Sample bins. Feel free to create your own bins.\n",
    "spending_bins = [0, 598, 628, 648, 680]\n",
    "group_names = [\"<$600\", \"$600-630\", \"$630-650\", \">$650\"]"
   ]
  },
  {
   "cell_type": "code",
   "execution_count": 21,
   "metadata": {},
   "outputs": [
    {
     "data": {
      "text/html": [
       "<div>\n",
       "<style scoped>\n",
       "    .dataframe tbody tr th:only-of-type {\n",
       "        vertical-align: middle;\n",
       "    }\n",
       "\n",
       "    .dataframe tbody tr th {\n",
       "        vertical-align: top;\n",
       "    }\n",
       "\n",
       "    .dataframe thead th {\n",
       "        text-align: right;\n",
       "    }\n",
       "</style>\n",
       "<table border=\"1\" class=\"dataframe\">\n",
       "  <thead>\n",
       "    <tr style=\"text-align: right;\">\n",
       "      <th></th>\n",
       "      <th>Average Reading Score</th>\n",
       "      <th>Average Math Score</th>\n",
       "      <th>% Passing Math</th>\n",
       "      <th>% Passing Reading</th>\n",
       "      <th>% Overall Passing Rate</th>\n",
       "    </tr>\n",
       "    <tr>\n",
       "      <th>Budget Category</th>\n",
       "      <th></th>\n",
       "      <th></th>\n",
       "      <th></th>\n",
       "      <th></th>\n",
       "      <th></th>\n",
       "    </tr>\n",
       "  </thead>\n",
       "  <tbody>\n",
       "    <tr>\n",
       "      <td>&lt;$600</td>\n",
       "      <td>83.933814</td>\n",
       "      <td>83.455399</td>\n",
       "      <td>0.934601</td>\n",
       "      <td>0.966109</td>\n",
       "      <td>0.950355</td>\n",
       "    </tr>\n",
       "    <tr>\n",
       "      <td>$600-630</td>\n",
       "      <td>83.155286</td>\n",
       "      <td>81.899826</td>\n",
       "      <td>0.871335</td>\n",
       "      <td>0.927182</td>\n",
       "      <td>0.899259</td>\n",
       "    </tr>\n",
       "    <tr>\n",
       "      <td>$630-650</td>\n",
       "      <td>81.624473</td>\n",
       "      <td>78.518855</td>\n",
       "      <td>0.734842</td>\n",
       "      <td>0.843918</td>\n",
       "      <td>0.789380</td>\n",
       "    </tr>\n",
       "    <tr>\n",
       "      <td>&gt;$650</td>\n",
       "      <td>81.027843</td>\n",
       "      <td>76.997210</td>\n",
       "      <td>0.661648</td>\n",
       "      <td>0.811340</td>\n",
       "      <td>0.736494</td>\n",
       "    </tr>\n",
       "  </tbody>\n",
       "</table>\n",
       "</div>"
      ],
      "text/plain": [
       "                 Average Reading Score  Average Math Score  % Passing Math  \\\n",
       "Budget Category                                                              \n",
       "<$600                        83.933814           83.455399        0.934601   \n",
       "$600-630                     83.155286           81.899826        0.871335   \n",
       "$630-650                     81.624473           78.518855        0.734842   \n",
       ">$650                        81.027843           76.997210        0.661648   \n",
       "\n",
       "                 % Passing Reading   % Overall Passing Rate  \n",
       "Budget Category                                              \n",
       "<$600                      0.966109                0.950355  \n",
       "$600-630                   0.927182                0.899259  \n",
       "$630-650                   0.843918                0.789380  \n",
       ">$650                      0.811340                0.736494  "
      ]
     },
     "execution_count": 21,
     "metadata": {},
     "output_type": "execute_result"
    }
   ],
   "source": [
    "#I had to create a School_Summary2 because groupby mean doesn't applied to formated data\n",
    "School_Summary2['Budget Category'] = pd.cut(School_Summary['Per Student Budget'], spending_bins, labels = group_names, include_lowest = True)\n",
    "School_Summary2.groupby(['Budget Category'])['Average Reading Score','Average Math Score', '% Passing Math', '% Passing Reading ','% Overall Passing Rate'].mean()\n"
   ]
  },
  {
   "cell_type": "markdown",
   "metadata": {},
   "source": [
    "## Scores by School Size"
   ]
  },
  {
   "cell_type": "markdown",
   "metadata": {},
   "source": [
    "* Perform the same operations as above, based on school size."
   ]
  },
  {
   "cell_type": "code",
   "execution_count": 22,
   "metadata": {},
   "outputs": [],
   "source": [
    "# Sample bins. Feel free to create your own bins.\n",
    "size_bins = [0, 1000, 2000, 5000]\n",
    "size_names = [\"Small (<1000)\", \"Medium (1000-2000)\", \"Large (2000-5000)\"]"
   ]
  },
  {
   "cell_type": "code",
   "execution_count": 23,
   "metadata": {},
   "outputs": [
    {
     "data": {
      "text/html": [
       "<div>\n",
       "<style scoped>\n",
       "    .dataframe tbody tr th:only-of-type {\n",
       "        vertical-align: middle;\n",
       "    }\n",
       "\n",
       "    .dataframe tbody tr th {\n",
       "        vertical-align: top;\n",
       "    }\n",
       "\n",
       "    .dataframe thead th {\n",
       "        text-align: right;\n",
       "    }\n",
       "</style>\n",
       "<table border=\"1\" class=\"dataframe\">\n",
       "  <thead>\n",
       "    <tr style=\"text-align: right;\">\n",
       "      <th></th>\n",
       "      <th>Average Reading Score</th>\n",
       "      <th>Average Math Score</th>\n",
       "      <th>% Passing Math</th>\n",
       "      <th>% Passing Reading</th>\n",
       "      <th>% Overall Passing Rate</th>\n",
       "    </tr>\n",
       "    <tr>\n",
       "      <th>Size</th>\n",
       "      <th></th>\n",
       "      <th></th>\n",
       "      <th></th>\n",
       "      <th></th>\n",
       "      <th></th>\n",
       "    </tr>\n",
       "  </thead>\n",
       "  <tbody>\n",
       "    <tr>\n",
       "      <td>Small (&lt;1000)</td>\n",
       "      <td>83.929843</td>\n",
       "      <td>83.821598</td>\n",
       "      <td>0.935502</td>\n",
       "      <td>0.960994</td>\n",
       "      <td>0.948248</td>\n",
       "    </tr>\n",
       "    <tr>\n",
       "      <td>Medium (1000-2000)</td>\n",
       "      <td>83.864438</td>\n",
       "      <td>83.374684</td>\n",
       "      <td>0.935997</td>\n",
       "      <td>0.967907</td>\n",
       "      <td>0.951952</td>\n",
       "    </tr>\n",
       "    <tr>\n",
       "      <td>Large (2000-5000)</td>\n",
       "      <td>81.344493</td>\n",
       "      <td>77.746417</td>\n",
       "      <td>0.699634</td>\n",
       "      <td>0.827666</td>\n",
       "      <td>0.763650</td>\n",
       "    </tr>\n",
       "  </tbody>\n",
       "</table>\n",
       "</div>"
      ],
      "text/plain": [
       "                    Average Reading Score  Average Math Score  % Passing Math  \\\n",
       "Size                                                                            \n",
       "Small (<1000)                   83.929843           83.821598        0.935502   \n",
       "Medium (1000-2000)              83.864438           83.374684        0.935997   \n",
       "Large (2000-5000)               81.344493           77.746417        0.699634   \n",
       "\n",
       "                    % Passing Reading   % Overall Passing Rate  \n",
       "Size                                                            \n",
       "Small (<1000)                 0.960994                0.948248  \n",
       "Medium (1000-2000)            0.967907                0.951952  \n",
       "Large (2000-5000)             0.827666                0.763650  "
      ]
     },
     "execution_count": 23,
     "metadata": {},
     "output_type": "execute_result"
    }
   ],
   "source": [
    "School_Summary2['Size'] = pd.cut(School_Summary['Total Students'], size_bins, labels = size_names, include_lowest = True)\n",
    "School_Summary2.groupby(['Size'])['Average Reading Score','Average Math Score', '% Passing Math', '% Passing Reading ','% Overall Passing Rate'].mean()\n"
   ]
  },
  {
   "cell_type": "markdown",
   "metadata": {},
   "source": [
    "## Scores by School Type"
   ]
  },
  {
   "cell_type": "markdown",
   "metadata": {},
   "source": [
    "* Perform the same operations as above, based on school type."
   ]
  },
  {
   "cell_type": "code",
   "execution_count": 35,
   "metadata": {},
   "outputs": [
    {
     "ename": "IndexError",
     "evalue": "Too many levels: Index has only 1 level, not 2",
     "output_type": "error",
     "traceback": [
      "\u001b[0;31m---------------------------------------------------------------------------\u001b[0m",
      "\u001b[0;31mIndexError\u001b[0m                                Traceback (most recent call last)",
      "\u001b[0;32m<ipython-input-35-87b52268a3ed>\u001b[0m in \u001b[0;36m<module>\u001b[0;34m\u001b[0m\n\u001b[1;32m      1\u001b[0m \u001b[0;31m#I make a mistake from the very beginnig, I worked with a multidex, until this point\u001b[0m\u001b[0;34m\u001b[0m\u001b[0;34m\u001b[0m\u001b[0;34m\u001b[0m\u001b[0m\n\u001b[1;32m      2\u001b[0m \u001b[0;31m#that the request doesn't allow me to call Type because it was an index\u001b[0m\u001b[0;34m\u001b[0m\u001b[0;34m\u001b[0m\u001b[0;34m\u001b[0m\u001b[0m\n\u001b[0;32m----> 3\u001b[0;31m \u001b[0mSchool_Summary2\u001b[0m\u001b[0;34m.\u001b[0m\u001b[0mindex\u001b[0m \u001b[0;34m=\u001b[0m \u001b[0mSchool_Summary2\u001b[0m\u001b[0;34m.\u001b[0m\u001b[0mindex\u001b[0m\u001b[0;34m.\u001b[0m\u001b[0mdroplevel\u001b[0m\u001b[0;34m(\u001b[0m\u001b[0mlevel\u001b[0m\u001b[0;34m=\u001b[0m\u001b[0;36m1\u001b[0m\u001b[0;34m)\u001b[0m\u001b[0;34m\u001b[0m\u001b[0;34m\u001b[0m\u001b[0m\n\u001b[0m",
      "\u001b[0;32m/opt/anaconda3/lib/python3.7/site-packages/pandas/core/indexes/base.py\u001b[0m in \u001b[0;36mdroplevel\u001b[0;34m(self, level)\u001b[0m\n\u001b[1;32m   1647\u001b[0m             \u001b[0mlevel\u001b[0m \u001b[0;34m=\u001b[0m \u001b[0;34m[\u001b[0m\u001b[0mlevel\u001b[0m\u001b[0;34m]\u001b[0m\u001b[0;34m\u001b[0m\u001b[0;34m\u001b[0m\u001b[0m\n\u001b[1;32m   1648\u001b[0m \u001b[0;34m\u001b[0m\u001b[0m\n\u001b[0;32m-> 1649\u001b[0;31m         \u001b[0mlevnums\u001b[0m \u001b[0;34m=\u001b[0m \u001b[0msorted\u001b[0m\u001b[0;34m(\u001b[0m\u001b[0mself\u001b[0m\u001b[0;34m.\u001b[0m\u001b[0m_get_level_number\u001b[0m\u001b[0;34m(\u001b[0m\u001b[0mlev\u001b[0m\u001b[0;34m)\u001b[0m \u001b[0;32mfor\u001b[0m \u001b[0mlev\u001b[0m \u001b[0;32min\u001b[0m \u001b[0mlevel\u001b[0m\u001b[0;34m)\u001b[0m\u001b[0;34m[\u001b[0m\u001b[0;34m:\u001b[0m\u001b[0;34m:\u001b[0m\u001b[0;34m-\u001b[0m\u001b[0;36m1\u001b[0m\u001b[0;34m]\u001b[0m\u001b[0;34m\u001b[0m\u001b[0;34m\u001b[0m\u001b[0m\n\u001b[0m\u001b[1;32m   1650\u001b[0m \u001b[0;34m\u001b[0m\u001b[0m\n\u001b[1;32m   1651\u001b[0m         \u001b[0;32mif\u001b[0m \u001b[0mlen\u001b[0m\u001b[0;34m(\u001b[0m\u001b[0mlevel\u001b[0m\u001b[0;34m)\u001b[0m \u001b[0;34m==\u001b[0m \u001b[0;36m0\u001b[0m\u001b[0;34m:\u001b[0m\u001b[0;34m\u001b[0m\u001b[0;34m\u001b[0m\u001b[0m\n",
      "\u001b[0;32m/opt/anaconda3/lib/python3.7/site-packages/pandas/core/indexes/base.py\u001b[0m in \u001b[0;36m<genexpr>\u001b[0;34m(.0)\u001b[0m\n\u001b[1;32m   1647\u001b[0m             \u001b[0mlevel\u001b[0m \u001b[0;34m=\u001b[0m \u001b[0;34m[\u001b[0m\u001b[0mlevel\u001b[0m\u001b[0;34m]\u001b[0m\u001b[0;34m\u001b[0m\u001b[0;34m\u001b[0m\u001b[0m\n\u001b[1;32m   1648\u001b[0m \u001b[0;34m\u001b[0m\u001b[0m\n\u001b[0;32m-> 1649\u001b[0;31m         \u001b[0mlevnums\u001b[0m \u001b[0;34m=\u001b[0m \u001b[0msorted\u001b[0m\u001b[0;34m(\u001b[0m\u001b[0mself\u001b[0m\u001b[0;34m.\u001b[0m\u001b[0m_get_level_number\u001b[0m\u001b[0;34m(\u001b[0m\u001b[0mlev\u001b[0m\u001b[0;34m)\u001b[0m \u001b[0;32mfor\u001b[0m \u001b[0mlev\u001b[0m \u001b[0;32min\u001b[0m \u001b[0mlevel\u001b[0m\u001b[0;34m)\u001b[0m\u001b[0;34m[\u001b[0m\u001b[0;34m:\u001b[0m\u001b[0;34m:\u001b[0m\u001b[0;34m-\u001b[0m\u001b[0;36m1\u001b[0m\u001b[0;34m]\u001b[0m\u001b[0;34m\u001b[0m\u001b[0;34m\u001b[0m\u001b[0m\n\u001b[0m\u001b[1;32m   1650\u001b[0m \u001b[0;34m\u001b[0m\u001b[0m\n\u001b[1;32m   1651\u001b[0m         \u001b[0;32mif\u001b[0m \u001b[0mlen\u001b[0m\u001b[0;34m(\u001b[0m\u001b[0mlevel\u001b[0m\u001b[0;34m)\u001b[0m \u001b[0;34m==\u001b[0m \u001b[0;36m0\u001b[0m\u001b[0;34m:\u001b[0m\u001b[0;34m\u001b[0m\u001b[0;34m\u001b[0m\u001b[0m\n",
      "\u001b[0;32m/opt/anaconda3/lib/python3.7/site-packages/pandas/core/indexes/base.py\u001b[0m in \u001b[0;36m_get_level_number\u001b[0;34m(self, level)\u001b[0m\n\u001b[1;32m   1561\u001b[0m \u001b[0;34m\u001b[0m\u001b[0m\n\u001b[1;32m   1562\u001b[0m     \u001b[0;32mdef\u001b[0m \u001b[0m_get_level_number\u001b[0m\u001b[0;34m(\u001b[0m\u001b[0mself\u001b[0m\u001b[0;34m,\u001b[0m \u001b[0mlevel\u001b[0m\u001b[0;34m)\u001b[0m\u001b[0;34m:\u001b[0m\u001b[0;34m\u001b[0m\u001b[0;34m\u001b[0m\u001b[0m\n\u001b[0;32m-> 1563\u001b[0;31m         \u001b[0mself\u001b[0m\u001b[0;34m.\u001b[0m\u001b[0m_validate_index_level\u001b[0m\u001b[0;34m(\u001b[0m\u001b[0mlevel\u001b[0m\u001b[0;34m)\u001b[0m\u001b[0;34m\u001b[0m\u001b[0;34m\u001b[0m\u001b[0m\n\u001b[0m\u001b[1;32m   1564\u001b[0m         \u001b[0;32mreturn\u001b[0m \u001b[0;36m0\u001b[0m\u001b[0;34m\u001b[0m\u001b[0;34m\u001b[0m\u001b[0m\n\u001b[1;32m   1565\u001b[0m \u001b[0;34m\u001b[0m\u001b[0m\n",
      "\u001b[0;32m/opt/anaconda3/lib/python3.7/site-packages/pandas/core/indexes/base.py\u001b[0m in \u001b[0;36m_validate_index_level\u001b[0;34m(self, level)\u001b[0m\n\u001b[1;32m   1551\u001b[0m             \u001b[0;32melif\u001b[0m \u001b[0mlevel\u001b[0m \u001b[0;34m>\u001b[0m \u001b[0;36m0\u001b[0m\u001b[0;34m:\u001b[0m\u001b[0;34m\u001b[0m\u001b[0;34m\u001b[0m\u001b[0m\n\u001b[1;32m   1552\u001b[0m                 raise IndexError(\n\u001b[0;32m-> 1553\u001b[0;31m                     \u001b[0;34m\"Too many levels:\"\u001b[0m \u001b[0;34m\" Index has only 1 level, not %d\"\u001b[0m \u001b[0;34m%\u001b[0m \u001b[0;34m(\u001b[0m\u001b[0mlevel\u001b[0m \u001b[0;34m+\u001b[0m \u001b[0;36m1\u001b[0m\u001b[0;34m)\u001b[0m\u001b[0;34m\u001b[0m\u001b[0;34m\u001b[0m\u001b[0m\n\u001b[0m\u001b[1;32m   1554\u001b[0m                 )\n\u001b[1;32m   1555\u001b[0m         \u001b[0;32melif\u001b[0m \u001b[0mlevel\u001b[0m \u001b[0;34m!=\u001b[0m \u001b[0mself\u001b[0m\u001b[0;34m.\u001b[0m\u001b[0mname\u001b[0m\u001b[0;34m:\u001b[0m\u001b[0;34m\u001b[0m\u001b[0;34m\u001b[0m\u001b[0m\n",
      "\u001b[0;31mIndexError\u001b[0m: Too many levels: Index has only 1 level, not 2"
     ]
    }
   ],
   "source": [
    "#I make a mistake from the very beginnig, I worked with a multidex, until this point \n",
    "#that the request doesn't allow me to call Type because it was an index\n",
    "School_Summary2.index = School_Summary2.index.droplevel(level=1)"
   ]
  },
  {
   "cell_type": "code",
   "execution_count": 59,
   "metadata": {},
   "outputs": [
    {
     "data": {
      "text/plain": [
       "Index(['Bailey High School', 'Cabrera High School', 'Figueroa High School',\n",
       "       'Ford High School', 'Griffin High School', 'Hernandez High School',\n",
       "       'Holden High School', 'Huang High School', 'Johnson High School',\n",
       "       'Pena High School', 'Rodriguez High School', 'Shelton High School',\n",
       "       'Thomas High School', 'Wilson High School', 'Wright High School'],\n",
       "      dtype='object', name='School Name')"
      ]
     },
     "execution_count": 59,
     "metadata": {},
     "output_type": "execute_result"
    }
   ],
   "source": [
    "#Here the index is fine now\n",
    "School_Summary2.index"
   ]
  },
  {
   "cell_type": "code",
   "execution_count": 69,
   "metadata": {},
   "outputs": [],
   "source": [
    "#So i have to add again the type, but i couldnt\n",
    "typeschool = school_data_complete[['school_name','type']]\n",
    "types = typeschool.groupby(['school_name']).last()"
   ]
  },
  {
   "cell_type": "code",
   "execution_count": 70,
   "metadata": {},
   "outputs": [],
   "source": [
    "School_Summary2['Type'] = types['type']"
   ]
  },
  {
   "cell_type": "code",
   "execution_count": 71,
   "metadata": {},
   "outputs": [
    {
     "data": {
      "text/html": [
       "<div>\n",
       "<style scoped>\n",
       "    .dataframe tbody tr th:only-of-type {\n",
       "        vertical-align: middle;\n",
       "    }\n",
       "\n",
       "    .dataframe tbody tr th {\n",
       "        vertical-align: top;\n",
       "    }\n",
       "\n",
       "    .dataframe thead th {\n",
       "        text-align: right;\n",
       "    }\n",
       "</style>\n",
       "<table border=\"1\" class=\"dataframe\">\n",
       "  <thead>\n",
       "    <tr style=\"text-align: right;\">\n",
       "      <th></th>\n",
       "      <th>Average Reading Score</th>\n",
       "      <th>Average Math Score</th>\n",
       "      <th>% Passing Math</th>\n",
       "      <th>% Passing Reading</th>\n",
       "      <th>% Overall Passing Rate</th>\n",
       "    </tr>\n",
       "    <tr>\n",
       "      <th>Type</th>\n",
       "      <th></th>\n",
       "      <th></th>\n",
       "      <th></th>\n",
       "      <th></th>\n",
       "      <th></th>\n",
       "    </tr>\n",
       "  </thead>\n",
       "  <tbody>\n",
       "    <tr>\n",
       "      <td>Charter</td>\n",
       "      <td>83.896421</td>\n",
       "      <td>83.473852</td>\n",
       "      <td>0.936208</td>\n",
       "      <td>0.965865</td>\n",
       "      <td>0.951037</td>\n",
       "    </tr>\n",
       "    <tr>\n",
       "      <td>District</td>\n",
       "      <td>80.966636</td>\n",
       "      <td>76.956733</td>\n",
       "      <td>0.665485</td>\n",
       "      <td>0.807991</td>\n",
       "      <td>0.736738</td>\n",
       "    </tr>\n",
       "  </tbody>\n",
       "</table>\n",
       "</div>"
      ],
      "text/plain": [
       "          Average Reading Score  Average Math Score  % Passing Math  \\\n",
       "Type                                                                  \n",
       "Charter               83.896421           83.473852        0.936208   \n",
       "District              80.966636           76.956733        0.665485   \n",
       "\n",
       "          % Passing Reading   % Overall Passing Rate  \n",
       "Type                                                  \n",
       "Charter             0.965865                0.951037  \n",
       "District            0.807991                0.736738  "
      ]
     },
     "execution_count": 71,
     "metadata": {},
     "output_type": "execute_result"
    }
   ],
   "source": [
    "School_Summary2.groupby(['Type'])['Average Reading Score','Average Math Score', '% Passing Math', '% Passing Reading ','% Overall Passing Rate'].mean()"
   ]
  },
  {
   "cell_type": "code",
   "execution_count": null,
   "metadata": {},
   "outputs": [],
   "source": []
  }
 ],
 "metadata": {
  "anaconda-cloud": {},
  "kernel_info": {
   "name": "python3"
  },
  "kernelspec": {
   "display_name": "Python 3",
   "language": "python",
   "name": "python3"
  },
  "language_info": {
   "codemirror_mode": {
    "name": "ipython",
    "version": 3
   },
   "file_extension": ".py",
   "mimetype": "text/x-python",
   "name": "python",
   "nbconvert_exporter": "python",
   "pygments_lexer": "ipython3",
   "version": "3.7.4"
  },
  "latex_envs": {
   "LaTeX_envs_menu_present": true,
   "autoclose": false,
   "autocomplete": true,
   "bibliofile": "biblio.bib",
   "cite_by": "apalike",
   "current_citInitial": 1,
   "eqLabelWithNumbers": true,
   "eqNumInitial": 1,
   "hotkeys": {
    "equation": "Ctrl-E",
    "itemize": "Ctrl-I"
   },
   "labels_anchors": false,
   "latex_user_defs": false,
   "report_style_numbering": false,
   "user_envs_cfg": false
  },
  "nteract": {
   "version": "0.8.4"
  }
 },
 "nbformat": 4,
 "nbformat_minor": 1
}
